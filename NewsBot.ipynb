{
  "nbformat": 4,
  "nbformat_minor": 0,
  "metadata": {
    "colab": {
      "provenance": [],
      "authorship_tag": "ABX9TyOfS5vjuUDwNR5kIyhn5i7N",
      "include_colab_link": true
    },
    "kernelspec": {
      "name": "python3",
      "display_name": "Python 3"
    },
    "language_info": {
      "name": "python"
    }
  },
  "cells": [
    {
      "cell_type": "markdown",
      "metadata": {
        "id": "view-in-github",
        "colab_type": "text"
      },
      "source": [
        "<a href=\"https://colab.research.google.com/github/danielpappa/NewsBot/blob/main/NewsBot.ipynb\" target=\"_parent\"><img src=\"https://colab.research.google.com/assets/colab-badge.svg\" alt=\"Open In Colab\"/></a>"
      ]
    },
    {
      "cell_type": "markdown",
      "source": [
        "# **NewsBot**"
      ],
      "metadata": {
        "id": "wFK2q3uHYsI1"
      }
    },
    {
      "cell_type": "markdown",
      "source": [
        "This code was inspired by the work done in [Open-Source AI Cookbook](https://github.com/huggingface/cookbook) by 20+ contributors as visible in the repository. Their approach of RAG-evaluation by creating an LLM-as-a-judge was particularly helpful.\n"
      ],
      "metadata": {
        "id": "2WcyGQYPYpY7"
      }
    },
    {
      "cell_type": "markdown",
      "source": [
        "### Set-Up"
      ],
      "metadata": {
        "id": "5sAkYE6wZmy6"
      }
    },
    {
      "cell_type": "code",
      "source": [
        "!pip -q install datasets"
      ],
      "metadata": {
        "collapsed": true,
        "colab": {
          "base_uri": "https://localhost:8080/"
        },
        "id": "UqslXyQpe37T",
        "outputId": "314eeb47-5a35-4877-d6b1-d4bd77d0fbe3"
      },
      "execution_count": 3,
      "outputs": [
        {
          "output_type": "stream",
          "name": "stdout",
          "text": [
            "\u001b[2K     \u001b[90m━━━━━━━━━━━━━━━━━━━━━━━━━━━━━━━━━━━━━━━━\u001b[0m \u001b[32m542.0/542.0 kB\u001b[0m \u001b[31m4.8 MB/s\u001b[0m eta \u001b[36m0:00:00\u001b[0m\n",
            "\u001b[2K     \u001b[90m━━━━━━━━━━━━━━━━━━━━━━━━━━━━━━━━━━━━━━━━\u001b[0m \u001b[32m116.3/116.3 kB\u001b[0m \u001b[31m4.7 MB/s\u001b[0m eta \u001b[36m0:00:00\u001b[0m\n",
            "\u001b[2K     \u001b[90m━━━━━━━━━━━━━━━━━━━━━━━━━━━━━━━━━━━━━━━━\u001b[0m \u001b[32m194.1/194.1 kB\u001b[0m \u001b[31m6.6 MB/s\u001b[0m eta \u001b[36m0:00:00\u001b[0m\n",
            "\u001b[2K     \u001b[90m━━━━━━━━━━━━━━━━━━━━━━━━━━━━━━━━━━━━━━━━\u001b[0m \u001b[32m134.8/134.8 kB\u001b[0m \u001b[31m5.7 MB/s\u001b[0m eta \u001b[36m0:00:00\u001b[0m\n",
            "\u001b[?25h"
          ]
        }
      ]
    },
    {
      "cell_type": "code",
      "source": [
        "import pandas as pd\n",
        "import numpy as np\n",
        "import datasets\n",
        "\n",
        "from datasets import Dataset"
      ],
      "metadata": {
        "id": "5Dy51fzkZ-p_"
      },
      "execution_count": 6,
      "outputs": []
    },
    {
      "cell_type": "markdown",
      "source": [
        "### **Getting the Data**"
      ],
      "metadata": {
        "id": "_lLoRaE1Z6Yk"
      }
    },
    {
      "cell_type": "markdown",
      "source": [
        "The data used in the following section comprises news articles from the 4th of April, 2024 until the 4th of May, 2024 from both The Guardian and The New York Times. The respective articles where accessed through the freely available APIs on the journal's developer portals and processed into a final dataset which is available online on [HuggingFace](https://huggingface.co/datasets/danielpappa/News)."
      ],
      "metadata": {
        "id": "jFBAE5mEbZmM"
      }
    },
    {
      "cell_type": "code",
      "source": [
        "ds = datasets.load_dataset(\"danielpappa/News\", split=\"train\")\n",
        "\n",
        "pandas = ds.to_pandas()\n",
        "pandas['Summary'] = pandas['Summary'].str.split('More about').str[0] # to remove unnecessary information about the content's author\n",
        "pandas = pandas.drop(pandas[pandas['Summary'].str.len() < 50].index) # removing articles with less than 50 characters\n",
        "pandas = pandas.drop(pandas[pandas['Summary'].values == None].index) # removing NaNs\n",
        "pandas = pandas.drop(columns=['Unnamed: 0'])\n",
        "ds = Dataset.from_pandas(pandas)"
      ],
      "metadata": {
        "id": "zn9tR4zDZ-Iz"
      },
      "execution_count": 11,
      "outputs": []
    },
    {
      "cell_type": "code",
      "source": [
        "pandas.head()"
      ],
      "metadata": {
        "colab": {
          "base_uri": "https://localhost:8080/",
          "height": 293
        },
        "id": "D-h7_Fy6fIyf",
        "outputId": "194e21cf-959f-4282-efed-a9501bc96d03"
      },
      "execution_count": 12,
      "outputs": [
        {
          "output_type": "execute_result",
          "data": {
            "text/plain": [
              "                                               Title  \\\n",
              "0  Tesla Pullback Puts Onus on Others to Build El...   \n",
              "1  Billionaire Donor Assails Brown’s ‘Unconsciona...   \n",
              "2  Berkshire Reports Drop in Profits but Formidab...   \n",
              "3  Oil Companies Expand Offshore Drilling, Pointi...   \n",
              "4         The Perils of the Fed’s Vast Bond Holdings   \n",
              "\n",
              "                                             Summary  \\\n",
              "0  Elon Musk, the chief executive of Tesla, blind...   \n",
              "1  One of Brown University’s major donors, the bi...   \n",
              "2  Berkshire Hathaway on Saturday reported a shar...   \n",
              "3  About 80 miles southeast of Louisiana’s coast,...   \n",
              "4  The Federal Reserve is engaged in a colossal t...   \n",
              "\n",
              "                  Contributors                       Date   Section  \\\n",
              "0  By Jack Ewing and Ivan Penn  2024-05-04 05:04:41-04:00  business   \n",
              "1              By Rob Copeland  2024-05-03 19:21:00-04:00  business   \n",
              "2   By Michael J. de la Merced  2024-05-04 09:38:58-04:00  business   \n",
              "3                 By Ivan Penn  2024-05-03 05:00:46-04:00  business   \n",
              "4               By Jeff Sommer  2024-05-03 09:00:15-04:00  business   \n",
              "\n",
              "                                                 Url              Source  \n",
              "0  https://www.nytimes.com/2024/05/04/business/en...  The New York Times  \n",
              "1  https://www.nytimes.com/2024/05/03/business/st...  The New York Times  \n",
              "2  https://www.nytimes.com/2024/05/04/business/de...  The New York Times  \n",
              "3  https://www.nytimes.com/2024/05/03/business/en...  The New York Times  \n",
              "4  https://www.nytimes.com/2024/05/03/business/fe...  The New York Times  "
            ],
            "text/html": [
              "\n",
              "  <div id=\"df-02eef05a-0d76-4b55-86ee-95416220726d\" class=\"colab-df-container\">\n",
              "    <div>\n",
              "<style scoped>\n",
              "    .dataframe tbody tr th:only-of-type {\n",
              "        vertical-align: middle;\n",
              "    }\n",
              "\n",
              "    .dataframe tbody tr th {\n",
              "        vertical-align: top;\n",
              "    }\n",
              "\n",
              "    .dataframe thead th {\n",
              "        text-align: right;\n",
              "    }\n",
              "</style>\n",
              "<table border=\"1\" class=\"dataframe\">\n",
              "  <thead>\n",
              "    <tr style=\"text-align: right;\">\n",
              "      <th></th>\n",
              "      <th>Title</th>\n",
              "      <th>Summary</th>\n",
              "      <th>Contributors</th>\n",
              "      <th>Date</th>\n",
              "      <th>Section</th>\n",
              "      <th>Url</th>\n",
              "      <th>Source</th>\n",
              "    </tr>\n",
              "  </thead>\n",
              "  <tbody>\n",
              "    <tr>\n",
              "      <th>0</th>\n",
              "      <td>Tesla Pullback Puts Onus on Others to Build El...</td>\n",
              "      <td>Elon Musk, the chief executive of Tesla, blind...</td>\n",
              "      <td>By Jack Ewing and Ivan Penn</td>\n",
              "      <td>2024-05-04 05:04:41-04:00</td>\n",
              "      <td>business</td>\n",
              "      <td>https://www.nytimes.com/2024/05/04/business/en...</td>\n",
              "      <td>The New York Times</td>\n",
              "    </tr>\n",
              "    <tr>\n",
              "      <th>1</th>\n",
              "      <td>Billionaire Donor Assails Brown’s ‘Unconsciona...</td>\n",
              "      <td>One of Brown University’s major donors, the bi...</td>\n",
              "      <td>By Rob Copeland</td>\n",
              "      <td>2024-05-03 19:21:00-04:00</td>\n",
              "      <td>business</td>\n",
              "      <td>https://www.nytimes.com/2024/05/03/business/st...</td>\n",
              "      <td>The New York Times</td>\n",
              "    </tr>\n",
              "    <tr>\n",
              "      <th>2</th>\n",
              "      <td>Berkshire Reports Drop in Profits but Formidab...</td>\n",
              "      <td>Berkshire Hathaway on Saturday reported a shar...</td>\n",
              "      <td>By Michael J. de la Merced</td>\n",
              "      <td>2024-05-04 09:38:58-04:00</td>\n",
              "      <td>business</td>\n",
              "      <td>https://www.nytimes.com/2024/05/04/business/de...</td>\n",
              "      <td>The New York Times</td>\n",
              "    </tr>\n",
              "    <tr>\n",
              "      <th>3</th>\n",
              "      <td>Oil Companies Expand Offshore Drilling, Pointi...</td>\n",
              "      <td>About 80 miles southeast of Louisiana’s coast,...</td>\n",
              "      <td>By Ivan Penn</td>\n",
              "      <td>2024-05-03 05:00:46-04:00</td>\n",
              "      <td>business</td>\n",
              "      <td>https://www.nytimes.com/2024/05/03/business/en...</td>\n",
              "      <td>The New York Times</td>\n",
              "    </tr>\n",
              "    <tr>\n",
              "      <th>4</th>\n",
              "      <td>The Perils of the Fed’s Vast Bond Holdings</td>\n",
              "      <td>The Federal Reserve is engaged in a colossal t...</td>\n",
              "      <td>By Jeff Sommer</td>\n",
              "      <td>2024-05-03 09:00:15-04:00</td>\n",
              "      <td>business</td>\n",
              "      <td>https://www.nytimes.com/2024/05/03/business/fe...</td>\n",
              "      <td>The New York Times</td>\n",
              "    </tr>\n",
              "  </tbody>\n",
              "</table>\n",
              "</div>\n",
              "    <div class=\"colab-df-buttons\">\n",
              "\n",
              "  <div class=\"colab-df-container\">\n",
              "    <button class=\"colab-df-convert\" onclick=\"convertToInteractive('df-02eef05a-0d76-4b55-86ee-95416220726d')\"\n",
              "            title=\"Convert this dataframe to an interactive table.\"\n",
              "            style=\"display:none;\">\n",
              "\n",
              "  <svg xmlns=\"http://www.w3.org/2000/svg\" height=\"24px\" viewBox=\"0 -960 960 960\">\n",
              "    <path d=\"M120-120v-720h720v720H120Zm60-500h600v-160H180v160Zm220 220h160v-160H400v160Zm0 220h160v-160H400v160ZM180-400h160v-160H180v160Zm440 0h160v-160H620v160ZM180-180h160v-160H180v160Zm440 0h160v-160H620v160Z\"/>\n",
              "  </svg>\n",
              "    </button>\n",
              "\n",
              "  <style>\n",
              "    .colab-df-container {\n",
              "      display:flex;\n",
              "      gap: 12px;\n",
              "    }\n",
              "\n",
              "    .colab-df-convert {\n",
              "      background-color: #E8F0FE;\n",
              "      border: none;\n",
              "      border-radius: 50%;\n",
              "      cursor: pointer;\n",
              "      display: none;\n",
              "      fill: #1967D2;\n",
              "      height: 32px;\n",
              "      padding: 0 0 0 0;\n",
              "      width: 32px;\n",
              "    }\n",
              "\n",
              "    .colab-df-convert:hover {\n",
              "      background-color: #E2EBFA;\n",
              "      box-shadow: 0px 1px 2px rgba(60, 64, 67, 0.3), 0px 1px 3px 1px rgba(60, 64, 67, 0.15);\n",
              "      fill: #174EA6;\n",
              "    }\n",
              "\n",
              "    .colab-df-buttons div {\n",
              "      margin-bottom: 4px;\n",
              "    }\n",
              "\n",
              "    [theme=dark] .colab-df-convert {\n",
              "      background-color: #3B4455;\n",
              "      fill: #D2E3FC;\n",
              "    }\n",
              "\n",
              "    [theme=dark] .colab-df-convert:hover {\n",
              "      background-color: #434B5C;\n",
              "      box-shadow: 0px 1px 3px 1px rgba(0, 0, 0, 0.15);\n",
              "      filter: drop-shadow(0px 1px 2px rgba(0, 0, 0, 0.3));\n",
              "      fill: #FFFFFF;\n",
              "    }\n",
              "  </style>\n",
              "\n",
              "    <script>\n",
              "      const buttonEl =\n",
              "        document.querySelector('#df-02eef05a-0d76-4b55-86ee-95416220726d button.colab-df-convert');\n",
              "      buttonEl.style.display =\n",
              "        google.colab.kernel.accessAllowed ? 'block' : 'none';\n",
              "\n",
              "      async function convertToInteractive(key) {\n",
              "        const element = document.querySelector('#df-02eef05a-0d76-4b55-86ee-95416220726d');\n",
              "        const dataTable =\n",
              "          await google.colab.kernel.invokeFunction('convertToInteractive',\n",
              "                                                    [key], {});\n",
              "        if (!dataTable) return;\n",
              "\n",
              "        const docLinkHtml = 'Like what you see? Visit the ' +\n",
              "          '<a target=\"_blank\" href=https://colab.research.google.com/notebooks/data_table.ipynb>data table notebook</a>'\n",
              "          + ' to learn more about interactive tables.';\n",
              "        element.innerHTML = '';\n",
              "        dataTable['output_type'] = 'display_data';\n",
              "        await google.colab.output.renderOutput(dataTable, element);\n",
              "        const docLink = document.createElement('div');\n",
              "        docLink.innerHTML = docLinkHtml;\n",
              "        element.appendChild(docLink);\n",
              "      }\n",
              "    </script>\n",
              "  </div>\n",
              "\n",
              "\n",
              "<div id=\"df-8e354e44-9339-45c6-98b2-d83d5be9a52b\">\n",
              "  <button class=\"colab-df-quickchart\" onclick=\"quickchart('df-8e354e44-9339-45c6-98b2-d83d5be9a52b')\"\n",
              "            title=\"Suggest charts\"\n",
              "            style=\"display:none;\">\n",
              "\n",
              "<svg xmlns=\"http://www.w3.org/2000/svg\" height=\"24px\"viewBox=\"0 0 24 24\"\n",
              "     width=\"24px\">\n",
              "    <g>\n",
              "        <path d=\"M19 3H5c-1.1 0-2 .9-2 2v14c0 1.1.9 2 2 2h14c1.1 0 2-.9 2-2V5c0-1.1-.9-2-2-2zM9 17H7v-7h2v7zm4 0h-2V7h2v10zm4 0h-2v-4h2v4z\"/>\n",
              "    </g>\n",
              "</svg>\n",
              "  </button>\n",
              "\n",
              "<style>\n",
              "  .colab-df-quickchart {\n",
              "      --bg-color: #E8F0FE;\n",
              "      --fill-color: #1967D2;\n",
              "      --hover-bg-color: #E2EBFA;\n",
              "      --hover-fill-color: #174EA6;\n",
              "      --disabled-fill-color: #AAA;\n",
              "      --disabled-bg-color: #DDD;\n",
              "  }\n",
              "\n",
              "  [theme=dark] .colab-df-quickchart {\n",
              "      --bg-color: #3B4455;\n",
              "      --fill-color: #D2E3FC;\n",
              "      --hover-bg-color: #434B5C;\n",
              "      --hover-fill-color: #FFFFFF;\n",
              "      --disabled-bg-color: #3B4455;\n",
              "      --disabled-fill-color: #666;\n",
              "  }\n",
              "\n",
              "  .colab-df-quickchart {\n",
              "    background-color: var(--bg-color);\n",
              "    border: none;\n",
              "    border-radius: 50%;\n",
              "    cursor: pointer;\n",
              "    display: none;\n",
              "    fill: var(--fill-color);\n",
              "    height: 32px;\n",
              "    padding: 0;\n",
              "    width: 32px;\n",
              "  }\n",
              "\n",
              "  .colab-df-quickchart:hover {\n",
              "    background-color: var(--hover-bg-color);\n",
              "    box-shadow: 0 1px 2px rgba(60, 64, 67, 0.3), 0 1px 3px 1px rgba(60, 64, 67, 0.15);\n",
              "    fill: var(--button-hover-fill-color);\n",
              "  }\n",
              "\n",
              "  .colab-df-quickchart-complete:disabled,\n",
              "  .colab-df-quickchart-complete:disabled:hover {\n",
              "    background-color: var(--disabled-bg-color);\n",
              "    fill: var(--disabled-fill-color);\n",
              "    box-shadow: none;\n",
              "  }\n",
              "\n",
              "  .colab-df-spinner {\n",
              "    border: 2px solid var(--fill-color);\n",
              "    border-color: transparent;\n",
              "    border-bottom-color: var(--fill-color);\n",
              "    animation:\n",
              "      spin 1s steps(1) infinite;\n",
              "  }\n",
              "\n",
              "  @keyframes spin {\n",
              "    0% {\n",
              "      border-color: transparent;\n",
              "      border-bottom-color: var(--fill-color);\n",
              "      border-left-color: var(--fill-color);\n",
              "    }\n",
              "    20% {\n",
              "      border-color: transparent;\n",
              "      border-left-color: var(--fill-color);\n",
              "      border-top-color: var(--fill-color);\n",
              "    }\n",
              "    30% {\n",
              "      border-color: transparent;\n",
              "      border-left-color: var(--fill-color);\n",
              "      border-top-color: var(--fill-color);\n",
              "      border-right-color: var(--fill-color);\n",
              "    }\n",
              "    40% {\n",
              "      border-color: transparent;\n",
              "      border-right-color: var(--fill-color);\n",
              "      border-top-color: var(--fill-color);\n",
              "    }\n",
              "    60% {\n",
              "      border-color: transparent;\n",
              "      border-right-color: var(--fill-color);\n",
              "    }\n",
              "    80% {\n",
              "      border-color: transparent;\n",
              "      border-right-color: var(--fill-color);\n",
              "      border-bottom-color: var(--fill-color);\n",
              "    }\n",
              "    90% {\n",
              "      border-color: transparent;\n",
              "      border-bottom-color: var(--fill-color);\n",
              "    }\n",
              "  }\n",
              "</style>\n",
              "\n",
              "  <script>\n",
              "    async function quickchart(key) {\n",
              "      const quickchartButtonEl =\n",
              "        document.querySelector('#' + key + ' button');\n",
              "      quickchartButtonEl.disabled = true;  // To prevent multiple clicks.\n",
              "      quickchartButtonEl.classList.add('colab-df-spinner');\n",
              "      try {\n",
              "        const charts = await google.colab.kernel.invokeFunction(\n",
              "            'suggestCharts', [key], {});\n",
              "      } catch (error) {\n",
              "        console.error('Error during call to suggestCharts:', error);\n",
              "      }\n",
              "      quickchartButtonEl.classList.remove('colab-df-spinner');\n",
              "      quickchartButtonEl.classList.add('colab-df-quickchart-complete');\n",
              "    }\n",
              "    (() => {\n",
              "      let quickchartButtonEl =\n",
              "        document.querySelector('#df-8e354e44-9339-45c6-98b2-d83d5be9a52b button');\n",
              "      quickchartButtonEl.style.display =\n",
              "        google.colab.kernel.accessAllowed ? 'block' : 'none';\n",
              "    })();\n",
              "  </script>\n",
              "</div>\n",
              "    </div>\n",
              "  </div>\n"
            ],
            "application/vnd.google.colaboratory.intrinsic+json": {
              "type": "dataframe",
              "variable_name": "pandas",
              "summary": "{\n  \"name\": \"pandas\",\n  \"rows\": 440,\n  \"fields\": [\n    {\n      \"column\": \"Title\",\n      \"properties\": {\n        \"dtype\": \"string\",\n        \"num_unique_values\": 347,\n        \"samples\": [\n          \"84 min\",\n          \"Jos\\u00e9 Andr\\u00e9s Eulogizes 7 Aid Workers Killed in Gaza\",\n          \"90+8 mins:\"\n        ],\n        \"semantic_type\": \"\",\n        \"description\": \"\"\n      }\n    },\n    {\n      \"column\": \"Summary\",\n      \"properties\": {\n        \"dtype\": \"string\",\n        \"num_unique_values\": 440,\n        \"samples\": [\n          \"Canadian police have charged three members of an alleged hit team for their role in the assassination of the Sikh activist Hardeep Singh Nijjar, the first arrests in a high-profile killing that officials believe was masterminded by India. The arrests come nearly a year after the prominent activist was killed in the parking lot of the Guru Nanak Sikh gurdwara on the evening of 18 June in the city of Surrey, British Columbia. In what investigators previously described as a carefully orchestrated operation, two assailants fired about 50 bullets at Nijjar and escaped the area in a grey car. According to court documents, Karanpreet Singh, 28, Kamalpreet Singh, 22, and Karan Brar, 22, have been charged with first-degree murder and one count of conspiracy to commit murder in Nijjar\\u2019s death. The three men arrested on Friday were living in the city of Edmonton, Alberta, and will be transported on Monday to British Columbia to face charges. The indictments allege the conspiracy was planned in both Surrey and Edmonton between 1 May and 18 June. Brian Edwards, Royal Canadian Mounted Police (RCMP) assistant commissioner, called the killing \\u201coutrageous\\u201d and \\u201creprehensible\\u201d, adding that the investigators worked closely with members of the Sikh community. \\u201cIt had a profound impact on the residents of Surrey and, notwithstanding today the announcing of charges, those scars will remain in our community for a long time,\\u201d he said. In September, the prime minister, Justin Trudeau, told parliament his government had \\u201ccredible allegations\\u201d that India was behind the killing, calling the death of a Canadian citizen on Canadian soil an \\u201cunacceptable violation of our sovereignty\\u201d. India has denied direct involvement in the killing of Nijjar and suggested \\u201crogue\\u201d operatives were behind a separate attempted assassination of a prominent Sikh figure in the United States. The fallout from Nijjar\\u2019s murder has chilled relations between Canada and India \\u2013 and exposed what officials say is a transnational campaign of violence by India, meant to target dissidents abroad. On Friday, the Indian high commissioner, Sanjay Kumar Verma, declined to comment on the arrests, calling them an \\u201cinternal\\u201d matter for Canada. Canada\\u2019s public safety minister said the arrests confirmed \\u201cthat the RCMP take these matters extremely seriously\\u201d. \\u201cWhile today\\u2019s action by Canadian authorities, which led to the arrest of those directly involved in the killing, is a step forward, it only scratches the surface,\\u201d Gurpatwant Pannun, himself the target of a failed assassination attempt, said in a statement. He also called on Canadian police to pursue the intelligence agents and diplomats allegedly involved in the killing in order to \\u201cdismantle the networks that enable and perpetuate such crimes against Canadians on Canadian soil\\u201d. The men arrested on Friday are Indian citizens who entered Canada on student visas three to five years ago. None has permanent residency, said Supt Mandeep Mooker. More arrests in connection with the murder are possible, he said, adding that police were working with other units in \\u201cactive investigations\\u201d across the country. Six men and two vehicles were involved in Nijjar\\u2019s murder, according to previous statements from police. \\u201cWe remain dedicated to finding and arresting each one of these individuals,\\u201d said Mooker. The CBC reported police were investigating three other murders in Canada, including the \\u201csick and twisted\\u201d killing of an 11-year-old boy in the city of Edmonton. The World Sikh Organization said in a statement the charges raised \\u201cdisturbing questions about the nexus between the government of India and criminal gangs\\u201d. Assistant commissioner David Teboul, commander of the Federal Policing Program in the Pacific region, told reporters that the shooting of Nijjar was \\u201cvery much under active investigation \\u2026 and these efforts include investigating connections to the government of India\\u201d. He said it had been \\u201cchallenging and difficult\\u201d working with Indian officials in Canada and counterpart agencies in India.\",\n          \"Representative Henry Cuellar, a Texas Democrat in a crucial swing district, and his wife were charged with participating in a yearslong $600,000 bribery scheme involving Azerbaijan and a Mexican bank, according to a federal indictment unsealed in Houston on Friday.The accusations against Mr. Cuellar, 68, and his wife Imelda, 67, center on allegations of bribery and money laundering in connection with their efforts on behalf of an oil and gas company owned by Azerbaijan\\u2019s leaders as well as an unnamed bank based in Mexico City, according to the 54-page complaint.Mr. Cuellar, a Laredo native first elected in 2004, is also accused of acting as an agent of a foreign entity while a U.S. government official \\u2014 by delivering a speech favoring Azerbaijan in Congress and inserting provisions into aid bills to benefit those who were paying bribes to his family.The government claimed that Mr. Cuellar, who once served as Texas secretary of state, was paid to back legislation intended to stymie regulation of the payday loan industry, which has been accused of predatory lending practices against the poor. He also tried to weaken money laundering laws that affected Mexico\\u2019s banking sector, according to prosecutors.Mr. Cuellar \\u201cagreed to influence legislative activity and to advise and pressure high-ranking U.S. executive branch officials regarding measures beneficial to the bank,\\u201d they said.Many of Mr. Cuellar\\u2019s actions, taken at face value, appeared to be legitimate policymaking activities, albeit favoring foreign-owned businesses. But the indictment claimed hidden motives, and prosecutors compiled tables of secret payments that cast those actions as an illegal and mercenary scheme.\",\n          \"David Hytner was at the Emirates watching Arsenal stay in the title race with a comprehensive win over Bournemouth. Here\\u2019s his on-whistle report:\"\n        ],\n        \"semantic_type\": \"\",\n        \"description\": \"\"\n      }\n    },\n    {\n      \"column\": \"Contributors\",\n      \"properties\": {\n        \"dtype\": \"category\",\n        \"num_unique_values\": 150,\n        \"samples\": [\n          \"By Raja Abdulrahim\",\n          \"By Sapna Maheshwari\",\n          \"By Tripp Mickle\"\n        ],\n        \"semantic_type\": \"\",\n        \"description\": \"\"\n      }\n    },\n    {\n      \"column\": \"Date\",\n      \"properties\": {\n        \"dtype\": \"object\",\n        \"num_unique_values\": 428,\n        \"samples\": [\n          \"2024-05-03 20:47:18+00:00\",\n          \"2024-05-04 06:21:07-04:00\",\n          \"2024-05-03 13:17:29+00:00\"\n        ],\n        \"semantic_type\": \"\",\n        \"description\": \"\"\n      }\n    },\n    {\n      \"column\": \"Section\",\n      \"properties\": {\n        \"dtype\": \"category\",\n        \"num_unique_values\": 24,\n        \"samples\": [\n          \"style\",\n          \"t-magazine\",\n          \"business\"\n        ],\n        \"semantic_type\": \"\",\n        \"description\": \"\"\n      }\n    },\n    {\n      \"column\": \"Url\",\n      \"properties\": {\n        \"dtype\": \"string\",\n        \"num_unique_values\": 244,\n        \"samples\": [\n          \"https://www.nytimes.com/2024/05/02/business/media/sony-apollo-paramount-deal.html\",\n          \"https://www.nytimes.com/2024/05/03/business/media/campus-protests-columbia-student-media-gaza.html\",\n          \"https://www.nytimes.com/2024/04/30/technology/binance-founder-changpeng-zhao-sentenced.html\"\n        ],\n        \"semantic_type\": \"\",\n        \"description\": \"\"\n      }\n    },\n    {\n      \"column\": \"Source\",\n      \"properties\": {\n        \"dtype\": \"category\",\n        \"num_unique_values\": 2,\n        \"samples\": [\n          \"The Guardian\",\n          \"The New York Times\"\n        ],\n        \"semantic_type\": \"\",\n        \"description\": \"\"\n      }\n    }\n  ]\n}"
            }
          },
          "metadata": {},
          "execution_count": 12
        }
      ]
    },
    {
      "cell_type": "markdown",
      "source": [
        "#### Analysis"
      ],
      "metadata": {
        "id": "HKAX_gC6a7vP"
      }
    },
    {
      "cell_type": "code",
      "source": [],
      "metadata": {
        "id": "l1pwFEqRbBLA"
      },
      "execution_count": null,
      "outputs": []
    },
    {
      "cell_type": "markdown",
      "source": [
        "#### Sentence Similarity"
      ],
      "metadata": {
        "id": "sJzUfT6QbBWN"
      }
    },
    {
      "cell_type": "code",
      "source": [],
      "metadata": {
        "id": "V68SUQlbbDLB"
      },
      "execution_count": null,
      "outputs": []
    },
    {
      "cell_type": "markdown",
      "source": [
        "#### CBOW"
      ],
      "metadata": {
        "id": "FwB9UUThbDbM"
      }
    },
    {
      "cell_type": "code",
      "source": [],
      "metadata": {
        "id": "yfNjhqpFbFC7"
      },
      "execution_count": null,
      "outputs": []
    },
    {
      "cell_type": "markdown",
      "source": [
        "### **Creating the RAG Model**"
      ],
      "metadata": {
        "id": "PmyjQE9MZy0k"
      }
    },
    {
      "cell_type": "markdown",
      "source": [
        "#### Retrieval"
      ],
      "metadata": {
        "id": "VTkTYT4naF8W"
      }
    },
    {
      "cell_type": "code",
      "source": [],
      "metadata": {
        "id": "rRV_OA1VZ_Nx"
      },
      "execution_count": null,
      "outputs": []
    },
    {
      "cell_type": "markdown",
      "source": [
        "#### Text Generation\n"
      ],
      "metadata": {
        "id": "4NbZf8cJZy_D"
      }
    },
    {
      "cell_type": "code",
      "source": [],
      "metadata": {
        "id": "M-CB2RfzaTkU"
      },
      "execution_count": null,
      "outputs": []
    },
    {
      "cell_type": "markdown",
      "source": [
        "#### Example Usage"
      ],
      "metadata": {
        "id": "nsW7lFPUZzEE"
      }
    },
    {
      "cell_type": "code",
      "source": [],
      "metadata": {
        "id": "UxhI39niaXeG"
      },
      "execution_count": null,
      "outputs": []
    },
    {
      "cell_type": "markdown",
      "source": [
        "### **Evaluation**"
      ],
      "metadata": {
        "id": "BDR8g2S_ZzHC"
      }
    },
    {
      "cell_type": "markdown",
      "source": [
        "#### Metrics"
      ],
      "metadata": {
        "id": "sMKnKme6ahmR"
      }
    },
    {
      "cell_type": "code",
      "source": [],
      "metadata": {
        "id": "CRMNff46agTa"
      },
      "execution_count": null,
      "outputs": []
    },
    {
      "cell_type": "markdown",
      "source": [
        "#### LLM-as-a-judge"
      ],
      "metadata": {
        "id": "R_J9K8EgZzO_"
      }
    },
    {
      "cell_type": "code",
      "source": [],
      "metadata": {
        "id": "Br0c21-9arNm"
      },
      "execution_count": null,
      "outputs": []
    }
  ]
}