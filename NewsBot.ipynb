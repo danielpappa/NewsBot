{
  "nbformat": 4,
  "nbformat_minor": 0,
  "metadata": {
    "colab": {
      "provenance": [],
      "authorship_tag": "ABX9TyPD1sl1I0S8gS0+3Btcw20F",
      "include_colab_link": true
    },
    "kernelspec": {
      "name": "python3",
      "display_name": "Python 3"
    },
    "language_info": {
      "name": "python"
    }
  },
  "cells": [
    {
      "cell_type": "markdown",
      "metadata": {
        "id": "view-in-github",
        "colab_type": "text"
      },
      "source": [
        "<a href=\"https://colab.research.google.com/github/danielpappa/NewsBot/blob/main/NewsBot.ipynb\" target=\"_parent\"><img src=\"https://colab.research.google.com/assets/colab-badge.svg\" alt=\"Open In Colab\"/></a>"
      ]
    },
    {
      "cell_type": "markdown",
      "source": [
        "# **NewsBot**"
      ],
      "metadata": {
        "id": "wFK2q3uHYsI1"
      }
    },
    {
      "cell_type": "markdown",
      "source": [
        "This code was inspired by the work done in [Open-Source AI Cookbook](https://github.com/huggingface/cookbook) by 20+ contributors as visible in the repository. Their approach of RAG-evaluation by creating an LLM-as-a-judge was particularly helpful.\n"
      ],
      "metadata": {
        "id": "2WcyGQYPYpY7"
      }
    },
    {
      "cell_type": "markdown",
      "source": [
        "### Set-Up"
      ],
      "metadata": {
        "id": "5sAkYE6wZmy6"
      }
    },
    {
      "cell_type": "code",
      "source": [],
      "metadata": {
        "id": "5Dy51fzkZ-p_"
      },
      "execution_count": null,
      "outputs": []
    },
    {
      "cell_type": "markdown",
      "source": [
        "### **Getting the Data**"
      ],
      "metadata": {
        "id": "_lLoRaE1Z6Yk"
      }
    },
    {
      "cell_type": "code",
      "source": [],
      "metadata": {
        "id": "zn9tR4zDZ-Iz"
      },
      "execution_count": null,
      "outputs": []
    },
    {
      "cell_type": "markdown",
      "source": [
        "#### Analysis"
      ],
      "metadata": {
        "id": "HKAX_gC6a7vP"
      }
    },
    {
      "cell_type": "code",
      "source": [],
      "metadata": {
        "id": "l1pwFEqRbBLA"
      },
      "execution_count": null,
      "outputs": []
    },
    {
      "cell_type": "markdown",
      "source": [
        "#### Sentence Similarity"
      ],
      "metadata": {
        "id": "sJzUfT6QbBWN"
      }
    },
    {
      "cell_type": "code",
      "source": [],
      "metadata": {
        "id": "V68SUQlbbDLB"
      },
      "execution_count": null,
      "outputs": []
    },
    {
      "cell_type": "markdown",
      "source": [
        "#### CBOW"
      ],
      "metadata": {
        "id": "FwB9UUThbDbM"
      }
    },
    {
      "cell_type": "code",
      "source": [],
      "metadata": {
        "id": "yfNjhqpFbFC7"
      },
      "execution_count": null,
      "outputs": []
    },
    {
      "cell_type": "markdown",
      "source": [
        "### **Creating the RAG Model**"
      ],
      "metadata": {
        "id": "PmyjQE9MZy0k"
      }
    },
    {
      "cell_type": "markdown",
      "source": [
        "#### Retrieval"
      ],
      "metadata": {
        "id": "VTkTYT4naF8W"
      }
    },
    {
      "cell_type": "code",
      "source": [],
      "metadata": {
        "id": "rRV_OA1VZ_Nx"
      },
      "execution_count": null,
      "outputs": []
    },
    {
      "cell_type": "markdown",
      "source": [
        "#### Text Generation\n"
      ],
      "metadata": {
        "id": "4NbZf8cJZy_D"
      }
    },
    {
      "cell_type": "code",
      "source": [],
      "metadata": {
        "id": "M-CB2RfzaTkU"
      },
      "execution_count": null,
      "outputs": []
    },
    {
      "cell_type": "markdown",
      "source": [
        "#### Example Usage"
      ],
      "metadata": {
        "id": "nsW7lFPUZzEE"
      }
    },
    {
      "cell_type": "code",
      "source": [],
      "metadata": {
        "id": "UxhI39niaXeG"
      },
      "execution_count": null,
      "outputs": []
    },
    {
      "cell_type": "markdown",
      "source": [
        "### **Evaluation**"
      ],
      "metadata": {
        "id": "BDR8g2S_ZzHC"
      }
    },
    {
      "cell_type": "markdown",
      "source": [
        "#### Metrics"
      ],
      "metadata": {
        "id": "sMKnKme6ahmR"
      }
    },
    {
      "cell_type": "code",
      "source": [],
      "metadata": {
        "id": "CRMNff46agTa"
      },
      "execution_count": null,
      "outputs": []
    },
    {
      "cell_type": "markdown",
      "source": [
        "#### LLM-as-a-judge"
      ],
      "metadata": {
        "id": "R_J9K8EgZzO_"
      }
    },
    {
      "cell_type": "code",
      "source": [],
      "metadata": {
        "id": "Br0c21-9arNm"
      },
      "execution_count": null,
      "outputs": []
    }
  ]
}